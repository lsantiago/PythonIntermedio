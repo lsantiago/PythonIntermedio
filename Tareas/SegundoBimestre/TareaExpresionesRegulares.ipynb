{
 "cells": [
  {
   "cell_type": "markdown",
   "metadata": {},
   "source": [
    "# Tarea Nro. 1 - EXPRESIONES REGULARES"
   ]
  },
  {
   "cell_type": "markdown",
   "metadata": {},
   "source": [
    "- Nombre y Apellido: ........................\n",
    "- Fecha:             ........................  "
   ]
  },
  {
   "cell_type": "markdown",
   "metadata": {},
   "source": [
    "En esta tarea se pone en práctica el uso de expresiones regulares.\n"
   ]
  },
  {
   "cell_type": "markdown",
   "metadata": {},
   "source": [
    "### Problema 1\n",
    "\n",
    "Escribe código que lea un archivo de entrada utilizando `.read()` y remueve todas las puntuaciones, especificamente\"!?.,;:/()\\\"\n",
    "\n",
    "No use iteración (bucles) en esta asignación. ¡Recuerde importar `re` para usar regex! Su lista resultante debe contener una lista de palabras sin ninguno de los signos de puntuación anteriores.\n",
    "Sugerencia: considere usar re.sub (). ¡Pruebe su código y asegúrese de que funcione!"
   ]
  },
  {
   "cell_type": "markdown",
   "metadata": {},
   "source": []
  },
  {
   "cell_type": "markdown",
   "metadata": {},
   "source": [
    "### Problema 2:\n",
    "\n",
    "Escriba una función que tome una expresión regular (como una cadena) y una cadena a la que desea aplicar la expresión regular. La firma debería verse así:\n",
    "\n",
    "```\n",
    "def regex_ayuda ( patron , cadena_entrada )\n",
    "```\n",
    "\n",
    "Donde patrón es la expresión regular y la cadena de entrada es la cadena. La función debe encontrar todas las apariciones del patrón en la cadena e imprimir cada coincidencia en una línea separada."
   ]
  },
  {
   "cell_type": "code",
   "execution_count": null,
   "metadata": {},
   "outputs": [],
   "source": []
  },
  {
   "cell_type": "markdown",
   "metadata": {},
   "source": [
    "### Problema 3\n",
    "\n",
    "Ahora que tiene un código de trabajo para aplicar una expresión regular a una cadena, ¡comencemos a usarlo! Primero, escriba una función principal. En la función, use un bucle while (para un repaso, mire la lección 14) para solicitar continuamente al usuario que ingrese hasta que el usuario ingrese \"salir\". Cada vez que el usuario ingresa la entrada, llame a su función auxiliar de expresiones regulares con 3 expresiones regulares diferentes:\n",
    "\n",
    "1. Una expresión regular para extraer todos los correos electrónicos que terminan en @.edu.ec\n",
    "2. Una expresión regular para extraer todas los tiempos escritors de cinco caracteres HH:MM, donde las horas varían de 00 a 23 y los minutos de 00 a 59.\n",
    "3. Una expresión regular para extraer todos los códigos de cursos de la Universidad Técnica Particular de Loja (separados por espacios)\n",
    "\n",
    "Notas:\n",
    "Para la última expresión regular, recuerde que los códigos de curso como CSCI0180, MCM0340 y CSCI1975F son todos validos\n",
    "\n",
    "Aquí hay algunos ejemplos de entrada y salida para su programa:\n",
    "\n",
    "```\n",
    "> Por favor ingrese una cadena:\n",
    "El profesor para CSCI0000 es ejemplo1@utpl.edu.ec y el número al que puede contactarlo es (401) 000-000 a partir de las 11:00.\n",
    "> ejemplo1@utpl.edu.ec\n",
    "> CSCI0000\n",
    "> 11:00\n",
    ">Por favor ingrese una cadena:\n",
    "```"
   ]
  },
  {
   "cell_type": "code",
   "execution_count": null,
   "metadata": {},
   "outputs": [],
   "source": []
  }
 ],
 "metadata": {
  "kernelspec": {
   "display_name": "Python 3",
   "language": "python",
   "name": "python3"
  },
  "language_info": {
   "codemirror_mode": {
    "name": "ipython",
    "version": 3
   },
   "file_extension": ".py",
   "mimetype": "text/x-python",
   "name": "python",
   "nbconvert_exporter": "python",
   "pygments_lexer": "ipython3",
   "version": "3.7.6"
  }
 },
 "nbformat": 4,
 "nbformat_minor": 4
}
