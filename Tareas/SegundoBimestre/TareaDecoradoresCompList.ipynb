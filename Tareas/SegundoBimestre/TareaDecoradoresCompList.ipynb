{
 "cells": [
  {
   "cell_type": "markdown",
   "metadata": {},
   "source": [
    "# Tarea Nro. 1 SB. - DECORADORES, COMPRESIÓN DE LISTAS"
   ]
  },
  {
   "cell_type": "markdown",
   "metadata": {},
   "source": [
    "- Nombre y Apellido: ........................\n",
    "- Fecha:             ........................  "
   ]
  },
  {
   "cell_type": "markdown",
   "metadata": {},
   "source": [
    "### Decoradores\n",
    "\n"
   ]
  },
  {
   "cell_type": "markdown",
   "metadata": {},
   "source": [
    "#### Problema 1\n",
    "\n",
    "Crear los decoradores para la función impresora de tal forma que se presente signos de * y % en medio del mensaje. \n",
    "\n",
    "```\n",
    "@strella\n",
    "@porcentaje\n",
    "def impresora(msg):\n",
    "    print(msg)\n",
    "```\n",
    "\n",
    "```\n",
    "******************************\n",
    "%%%%%%%%%%%%%%%%%%%%%%%%%%%%%%\n",
    "Hello\n",
    "%%%%%%%%%%%%%%%%%%%%%%%%%%%%%%\n",
    "******************************\n",
    "```\n",
    "\n",
    "Modifique el orden como se llaman los decoradores y explique lo que está sucediendo. "
   ]
  },
  {
   "cell_type": "markdown",
   "metadata": {},
   "source": [
    "#### Problema 2\n",
    "\n",
    "Crear un decorador que permita mostrar un aviso de que una función será discontinuada en `stderr` cuando invoquemos por primera vez una función que ya no queremos. El objetivo es no modificar la función. "
   ]
  },
  {
   "cell_type": "markdown",
   "metadata": {},
   "source": [
    "### Compresión de listas"
   ]
  },
  {
   "cell_type": "markdown",
   "metadata": {},
   "source": [
    "#### Problema 3\n",
    "\n",
    "Genere la lista [(1,1), (1,2), (1,3), (1,4), .., (1, n)], para cualquier n dado.\n",
    "Use esta lista para crear todas las fracciones 1.0 / k, para k de 1 a n.\n",
    "Finalmente, use round() para redondear todas las fracciones a dos decimales."
   ]
  },
  {
   "cell_type": "markdown",
   "metadata": {},
   "source": [
    "#### Problema 4\n",
    "Aproximar la función exponencial como\n",
    "$$\n",
    "\\sum_{k=0}^{n}\\frac{x^{k}}{k!}\n",
    "$$\n",
    "\n",
    "Utilice compresión de listas para evaluar esta aproximación para x y n dados."
   ]
  },
  {
   "cell_type": "markdown",
   "metadata": {},
   "source": [
    "#### Problema 5\n",
    "\n",
    "Escriba una lista de comprensión que resuelva la ecuación $$ y = x ^ {2} + 1 $$ Su solución debe imprimir una lista de pares [x, y]; use el dominio x ∈ [−5, 5] y el rango y ∈ [0, 10].\n",
    "\n"
   ]
  }
 ],
 "metadata": {
  "kernelspec": {
   "display_name": "Python 3",
   "language": "python",
   "name": "python3"
  },
  "language_info": {
   "codemirror_mode": {
    "name": "ipython",
    "version": 3
   },
   "file_extension": ".py",
   "mimetype": "text/x-python",
   "name": "python",
   "nbconvert_exporter": "python",
   "pygments_lexer": "ipython3",
   "version": "3.7.6"
  }
 },
 "nbformat": 4,
 "nbformat_minor": 4
}
