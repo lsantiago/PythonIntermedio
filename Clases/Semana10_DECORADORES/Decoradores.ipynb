{
 "cells": [
  {
   "cell_type": "markdown",
   "metadata": {},
   "source": [
    "## Decoradores ¿Qué son?"
   ]
  },
  {
   "cell_type": "markdown",
   "metadata": {},
   "source": [
    "### Funciones que añaden funcionalidades a otras funciones.\n",
    "\n",
    "Por eso se las denomina \"decoradores\", porque \"decoran\" a otras funciones. Les añaden funcionalidades.\n",
    "\n",
    "### Estructura de un decorador:\n",
    "\n",
    "- 3 funciones (A, B, C) donde A recibe como parámetro a B para devolver C.\n",
    "- Un decorador devuelve una función"
   ]
  },
  {
   "cell_type": "markdown",
   "metadata": {},
   "source": [
    "```\n",
    "def función_decorador(función):\n",
    "    def función_interna():\n",
    "        # código de la función interna\n",
    "    return función_interna\n",
    "```"
   ]
  },
  {
   "cell_type": "markdown",
   "metadata": {},
   "source": [
    "Ejemplo base"
   ]
  },
  {
   "cell_type": "code",
   "execution_count": 1,
   "metadata": {},
   "outputs": [
    {
     "name": "stdout",
     "output_type": "stream",
     "text": [
      "35\n",
      "20\n"
     ]
    }
   ],
   "source": [
    "def suma():\n",
    "    print(15+20)\n",
    "\n",
    "def resta():\n",
    "    print(30-10)\n",
    "    \n",
    "suma()\n",
    "resta()"
   ]
  },
  {
   "cell_type": "code",
   "execution_count": 2,
   "metadata": {},
   "outputs": [
    {
     "name": "stdout",
     "output_type": "stream",
     "text": [
      "vamos a realizar un cálculo\n",
      "35\n",
      "hemos terminado el cálculo\n",
      "vamos a realizar un cálculo\n",
      "20\n",
      "hemos terminado el cálculo\n"
     ]
    }
   ],
   "source": [
    "def suma():\n",
    "    print('vamos a realizar un cálculo')\n",
    "    print(15+20)\n",
    "    print('hemos terminado el cálculo')\n",
    "\n",
    "def resta():\n",
    "    print('vamos a realizar un cálculo')\n",
    "    print(30-10)\n",
    "    print('hemos terminado el cálculo')\n",
    "    \n",
    "suma()\n",
    "resta()"
   ]
  },
  {
   "cell_type": "markdown",
   "metadata": {},
   "source": [
    "Lo mismo pero empleando un decorador"
   ]
  },
  {
   "cell_type": "markdown",
   "metadata": {},
   "source": [
    "Ahora se mejorara, pensar que pueden ser 100, lo que se requiere es añadir una nueva funcionalidad a todas las funciones. Sol.: Agregar una función decoradora y aplicar a la que se quiere.\n",
    "\n",
    "Nececidad: Imprimir un mensaje antes y después de realizar el cálculo. "
   ]
  },
  {
   "cell_type": "code",
   "execution_count": 9,
   "metadata": {},
   "outputs": [
    {
     "name": "stdout",
     "output_type": "stream",
     "text": [
      "vamos a realizar un cálculo\n",
      "35\n",
      "hemos terminado el cálculo\n",
      "vamos a realizar un cálculo\n",
      "20\n",
      "hemos terminado el cálculo\n"
     ]
    }
   ],
   "source": [
    "def funcion_decoradora(funcion_parametro):\n",
    "    def funcion_interior():\n",
    "        print(\"vamos a realizar un cálculo\")\n",
    "        funcion_parametro()\n",
    "        print(\"hemos terminado el cálculo\")\n",
    "    return funcion_interior\n",
    "\n",
    "@funcion_decoradora\n",
    "def suma():\n",
    "    print(15+20)\n",
    "\n",
    "@funcion_decoradora\n",
    "def resta():\n",
    "    print(30-10)\n",
    "    \n",
    "\n",
    "suma()\n",
    "resta()"
   ]
  },
  {
   "cell_type": "markdown",
   "metadata": {},
   "source": [
    "### Decoradores con parámetros"
   ]
  },
  {
   "cell_type": "markdown",
   "metadata": {},
   "source": [
    "El ejemplo anterior sólo se limita a imprimir mensajes; ahora se implementara para que las funciones reciban parámetros. "
   ]
  },
  {
   "cell_type": "code",
   "execution_count": 10,
   "metadata": {},
   "outputs": [
    {
     "name": "stdout",
     "output_type": "stream",
     "text": [
      "vamos a realizar un cálculo\n",
      "5\n",
      "hemos terminado el cálculo\n",
      "vamos a realizar un cálculo\n",
      "1\n",
      "hemos terminado el cálculo\n"
     ]
    }
   ],
   "source": [
    "def funcion_decoradora(funcion_parametro):\n",
    "    def funcion_interior(*args):\n",
    "        print(\"vamos a realizar un cálculo\")\n",
    "        funcion_parametro(*args)\n",
    "        print(\"hemos terminado el cálculo\")\n",
    "    return funcion_interior\n",
    "\n",
    "@funcion_decoradora\n",
    "def suma(num1, num2):\n",
    "    print(num1+num2)\n",
    "\n",
    "@funcion_decoradora\n",
    "def resta(num1, num2):\n",
    "    print(num1-num2)\n",
    "    \n",
    "\n",
    "suma(2,3)\n",
    "resta(3,2)"
   ]
  },
  {
   "cell_type": "markdown",
   "metadata": {},
   "source": [
    "#### Ahora utilizando parámetros keyword"
   ]
  },
  {
   "cell_type": "code",
   "execution_count": 11,
   "metadata": {},
   "outputs": [
    {
     "name": "stdout",
     "output_type": "stream",
     "text": [
      "vamos a realizar un cálculo\n",
      "5\n",
      "hemos terminado el cálculo\n",
      "vamos a realizar un cálculo\n",
      "1\n",
      "hemos terminado el cálculo\n",
      "vamos a realizar un cálculo\n",
      "8\n",
      "hemos terminado el cálculo\n"
     ]
    }
   ],
   "source": [
    "def funcion_decoradora(funcion_parametro):\n",
    "    def funcion_interior(*args, **kwords):\n",
    "        print(\"vamos a realizar un cálculo\")\n",
    "        funcion_parametro(*args, **kwords)\n",
    "        print(\"hemos terminado el cálculo\")\n",
    "    return funcion_interior\n",
    "\n",
    "@funcion_decoradora\n",
    "def suma(num1, num2):\n",
    "    print(num1+num2)\n",
    "\n",
    "@funcion_decoradora\n",
    "def resta(num1, num2):\n",
    "    print(num1-num2)\n",
    "\n",
    "@funcion_decoradora\n",
    "def potencia(base, exponente):\n",
    "    print(pow(base, exponente))\n",
    "    \n",
    "suma(2,3)\n",
    "resta(3,2)\n",
    "potencia(base=2, exponente=3)"
   ]
  },
  {
   "cell_type": "markdown",
   "metadata": {},
   "source": [
    "Y ahora logrando que las funciones devuelvan resultados..."
   ]
  },
  {
   "cell_type": "code",
   "execution_count": 12,
   "metadata": {},
   "outputs": [
    {
     "name": "stdout",
     "output_type": "stream",
     "text": [
      "vamos a realizar un cálculo\n",
      "hemos terminado el cálculo\n",
      "5\n",
      "vamos a realizar un cálculo\n",
      "hemos terminado el cálculo\n",
      "1\n",
      "vamos a realizar un cálculo\n",
      "hemos terminado el cálculo\n",
      "8\n"
     ]
    }
   ],
   "source": [
    "def funcion_decoradora(funcion_parametro):\n",
    "    def funcion_interior(*args, **kwords):\n",
    "        print(\"vamos a realizar un cálculo\")\n",
    "        salida = funcion_parametro(*args, **kwords)\n",
    "        print(\"hemos terminado el cálculo\")\n",
    "        return salida\n",
    "    return funcion_interior\n",
    "\n",
    "@funcion_decoradora\n",
    "def suma(num1, num2):\n",
    "    return num1+num2\n",
    "\n",
    "@funcion_decoradora\n",
    "def resta(num1, num2):\n",
    "    return num1-num2\n",
    "\n",
    "@funcion_decoradora\n",
    "def potencia(base, exponente):\n",
    "    return pow(base, exponente)\n",
    "    \n",
    "print(suma(2,3))\n",
    "print(resta(3,2))\n",
    "print(potencia(base=2, exponente=3))"
   ]
  },
  {
   "cell_type": "markdown",
   "metadata": {},
   "source": [
    "#### Agregando argumentos al decorador"
   ]
  },
  {
   "cell_type": "code",
   "execution_count": 1,
   "metadata": {},
   "outputs": [
    {
     "name": "stdout",
     "output_type": "stream",
     "text": [
      "hemos terminado el cálculo\n",
      "5\n",
      "vamos a realizar un cálculo\n",
      "hemos terminado el cálculo\n",
      "1\n",
      "vamos a realizar un cálculo\n",
      "hemos terminado el cálculo\n",
      "8\n"
     ]
    }
   ],
   "source": [
    "def funcion_decoradora(is_valid = True):\n",
    "    def _funcion_decoradora(funcion_parametro):\n",
    "        def before_action():\n",
    "            print(\"vamos a realizar un cálculo\")\n",
    "            \n",
    "        def after_action():\n",
    "            print(\"hemos terminado el cálculo\")\n",
    "        \n",
    "        def funcion_interior(*args, **kwords):\n",
    "            if is_valid:\n",
    "                before_action()\n",
    "            salida = funcion_parametro(*args, **kwords)\n",
    "            after_action()\n",
    "            return salida\n",
    "        return funcion_interior\n",
    "    return _funcion_decoradora\n",
    "\n",
    "@funcion_decoradora(is_valid=False)\n",
    "def suma(num1, num2):\n",
    "    return num1+num2\n",
    "\n",
    "@funcion_decoradora()\n",
    "def resta(num1, num2):\n",
    "    return num1-num2\n",
    "\n",
    "@funcion_decoradora()\n",
    "def potencia(base, exponente):\n",
    "    return pow(base, exponente)\n",
    "    \n",
    "print(suma(2,3))\n",
    "print(resta(3,2))\n",
    "print(potencia(base=2, exponente=3))"
   ]
  },
  {
   "cell_type": "markdown",
   "metadata": {},
   "source": [
    "### Otros ejemplos"
   ]
  },
  {
   "cell_type": "code",
   "execution_count": 16,
   "metadata": {},
   "outputs": [
    {
     "name": "stdout",
     "output_type": "stream",
     "text": [
      "HOLA, MUNDO!\n"
     ]
    }
   ],
   "source": [
    "def todo_mayuscula(f):\n",
    "    def mayuscula():\n",
    "        return f().upper()\n",
    "    return mayuscula\n",
    "\n",
    "@todo_mayuscula\n",
    "def holamundo():\n",
    "    return 'Hola, mundo!'\n",
    "\n",
    "hola = holamundo()\n",
    "print(hola)"
   ]
  },
  {
   "cell_type": "markdown",
   "metadata": {},
   "source": [
    "#### Etiquetas html"
   ]
  },
  {
   "cell_type": "code",
   "execution_count": 20,
   "metadata": {},
   "outputs": [
    {
     "name": "stdout",
     "output_type": "stream",
     "text": [
      "<html>Dentro de función</html>\n"
     ]
    }
   ],
   "source": [
    "def tag_html(func):\n",
    "    def interna(*args, **kwargs):\n",
    "        return '<html>' + func(*args, **kwargs) + '</html>'\n",
    "    return interna\n",
    "\n",
    "@tag_html\n",
    "def hola():\n",
    "    return \"Dentro de función\"\n",
    "\n",
    "print(hola())"
   ]
  },
  {
   "cell_type": "markdown",
   "metadata": {},
   "source": [
    "#### Validando parámetros"
   ]
  },
  {
   "cell_type": "markdown",
   "metadata": {},
   "source": [
    "Validación de enteros"
   ]
  },
  {
   "cell_type": "code",
   "execution_count": 35,
   "metadata": {},
   "outputs": [
    {
     "name": "stdout",
     "output_type": "stream",
     "text": [
      "2\n",
      "suma\n"
     ]
    }
   ],
   "source": [
    "from functools import wraps\n",
    "\n",
    "def validate_type(type):\n",
    "    def validate(func):\n",
    "        @wraps(func)\n",
    "        def inner(*args):\n",
    "            if all(isinstance(val, type) for val in args):\n",
    "                return func(*args)\n",
    "        return inner\n",
    "    return validate\n",
    "\n",
    "@validate_type(int)\n",
    "def suma(x, y):\n",
    "    return x + y\n",
    "\n",
    "print(suma(1, 1))\n",
    "print(suma.__name__)"
   ]
  },
  {
   "cell_type": "markdown",
   "metadata": {},
   "source": [
    "Validación con parámetros"
   ]
  },
  {
   "cell_type": "code",
   "execution_count": 26,
   "metadata": {},
   "outputs": [
    {
     "name": "stdout",
     "output_type": "stream",
     "text": [
      "aa\n"
     ]
    }
   ],
   "source": [
    "def validate_type(type):\n",
    "    def validate(func):\n",
    "        def inner(*args, **kwargs):\n",
    "            if all(isinstance(val, type) for val in args):\n",
    "                return func(*args)\n",
    "        return inner\n",
    "    return validate\n",
    "\n",
    "@validate_type(str)\n",
    "def suma_entera(x, y):\n",
    "    return x + y\n",
    "\n",
    "print(suma_entera('a', 'a'))\n"
   ]
  },
  {
   "cell_type": "markdown",
   "metadata": {},
   "source": [
    "Logs\n"
   ]
  },
  {
   "cell_type": "code",
   "execution_count": 10,
   "metadata": {},
   "outputs": [
    {
     "name": "stdout",
     "output_type": "stream",
     "text": [
      "suma args:(2, 3)\n",
      "5\n"
     ]
    }
   ],
   "source": [
    "def log(func):\n",
    "    def inner(*args):\n",
    "        print(func.__name__, f'args:{args}')\n",
    "        return func(*args)\n",
    "    return inner\n",
    "\n",
    "@log\n",
    "def suma(x, y):\n",
    "    return x + y\n",
    "\n",
    "print(suma(2, 3))"
   ]
  },
  {
   "cell_type": "markdown",
   "metadata": {},
   "source": [
    "Uso de esto en flask http://flask.palletsprojects.com/en/1.1.x/quickstart/#quickstart"
   ]
  },
  {
   "cell_type": "markdown",
   "metadata": {},
   "source": [
    "Obteniendo nombres de funciones"
   ]
  },
  {
   "cell_type": "code",
   "execution_count": 35,
   "metadata": {},
   "outputs": [
    {
     "name": "stdout",
     "output_type": "stream",
     "text": [
      "suma_entera\n",
      "<function suma_entera at 0x00AF8390>\n"
     ]
    }
   ],
   "source": [
    "from functools import wraps\n",
    "\n",
    "def validate_type(type):\n",
    "    def validate(func):\n",
    "        @wraps(func)\n",
    "        def inner(*args, **kwargs):\n",
    "            if all(isinstance(val, type) for val in args):\n",
    "                return func(*args)\n",
    "        return inner\n",
    "    return validate\n",
    "\n",
    "@validate_type(int)\n",
    "def suma_entera(x, y):\n",
    "    return x + y\n",
    "\n",
    "print(suma_entera.__name__)\n",
    "print(suma_entera)"
   ]
  },
  {
   "cell_type": "code",
   "execution_count": 3,
   "metadata": {},
   "outputs": [
    {
     "name": "stdout",
     "output_type": "stream",
     "text": [
      "8\n"
     ]
    }
   ],
   "source": [
    "from functools import lru_cache\n",
    "\n",
    "@lru_cache()\n",
    "def fib(n):\n",
    "    #print(n)\n",
    "    if n < 2:\n",
    "        return n\n",
    "    return fib(n-2) + fib(n-1)\n",
    "\n",
    "print(fib(6))"
   ]
  },
  {
   "cell_type": "markdown",
   "metadata": {},
   "source": [
    "Otra función importante..."
   ]
  },
  {
   "cell_type": "code",
   "execution_count": 46,
   "metadata": {},
   "outputs": [
    {
     "data": {
      "text/plain": [
       "'<body>Hola</body>'"
      ]
     },
     "execution_count": 46,
     "metadata": {},
     "output_type": "execute_result"
    }
   ],
   "source": [
    "from functools import singledispatch\n",
    "from collections.abc import MutableSequence\n",
    "\n",
    "@singledispatch\n",
    "def generar_html(x):\n",
    "    return x\n",
    "\n",
    "@generar_html.register(int)\n",
    "def _generar_con_int(x):\n",
    "    return f'<span>{x}</span>'\n",
    "\n",
    "@generar_html.register(MutableSequence)\n",
    "def _generar_con_list(x):\n",
    "    return f'<p>{x}</p>'\n",
    "\n",
    "@generar_html.register(str)\n",
    "def _generar_con_str(x):\n",
    "    return f'<body>{x}</body>'\n",
    "\n",
    "generar_html('Hola')"
   ]
  },
  {
   "cell_type": "markdown",
   "metadata": {},
   "source": [
    "#### Controlando el tiempo de ejecución"
   ]
  },
  {
   "cell_type": "code",
   "execution_count": 49,
   "metadata": {},
   "outputs": [],
   "source": [
    "def calc_square(numbers):\n",
    "    result = []\n",
    "    for number in numbers:\n",
    "        result.append(number*number)\n",
    "    return result\n",
    "\n",
    "def calc_cube(numbers):\n",
    "    result = []\n",
    "    for number in numbers:\n",
    "        result.append(number*number*number)\n",
    "    return result\n",
    "\n",
    "array = range(1, 100000)\n",
    "out_square = calc_square(array)\n",
    "out_cube = calc_cube(array)\n",
    "#print(out_cube)"
   ]
  },
  {
   "cell_type": "markdown",
   "metadata": {},
   "source": [
    "Requerimiento: Medir los tiempos que le toma a cada función terminar de procesar la lista de números. Reto: Reconocer que se puede mejorar en el código. "
   ]
  },
  {
   "cell_type": "code",
   "execution_count": 51,
   "metadata": {},
   "outputs": [
    {
     "name": "stdout",
     "output_type": "stream",
     "text": [
      "calc_square took 25.93064308166504 mil sec\n",
      "calc_cube took 47.873497009277344 mil sec\n"
     ]
    }
   ],
   "source": [
    "import time\n",
    "\n",
    "def calc_square(numbers):\n",
    "    start = time.time()\n",
    "    result = []\n",
    "    for number in numbers:\n",
    "        result.append(number*number)\n",
    "    end = time.time()\n",
    "    print('calc_square took ' + str((end-start)*1000) + ' mil sec')\n",
    "    return result\n",
    "\n",
    "def calc_cube(numbers):\n",
    "    start = time.time()\n",
    "    result = []\n",
    "    for number in numbers:\n",
    "        result.append(number*number*number)\n",
    "    end = time.time()\n",
    "    print('calc_cube took ' + str((end-start)*1000) + ' mil sec')\n",
    "    return result\n",
    "\n",
    "array = range(1, 100000)\n",
    "out_square = calc_square(array)\n",
    "out_cube = calc_cube(array)\n",
    "#print(out_cube)"
   ]
  },
  {
   "cell_type": "code",
   "execution_count": null,
   "metadata": {},
   "outputs": [],
   "source": []
  },
  {
   "cell_type": "markdown",
   "metadata": {},
   "source": [
    "Las funciones son objetos de primera clase en python. Lo que significa es que pueden tratarse como cualquier otra variable y puede pasarlos como argumento a otra función o incluso devolverlos como un valor de retorno."
   ]
  },
  {
   "cell_type": "code",
   "execution_count": 6,
   "metadata": {
    "collapsed": true,
    "jupyter": {
     "outputs_hidden": true
    }
   },
   "outputs": [
    {
     "name": "stdout",
     "output_type": "stream",
     "text": [
      "calc_square took 29.926776885986328 mil sec\n",
      "calc_cube took 22.989749908447266 mil sec\n"
     ]
    }
   ],
   "source": [
    "import time\n",
    "\n",
    "def time_it(func):\n",
    "    def wrapper(*args, **kwargs):\n",
    "        start = time.time()\n",
    "        result = func(*args, **kwargs)\n",
    "        end = time.time()\n",
    "        print(func.__name__ + \" took \" + str((end-start)*1000) + \" mil sec\")\n",
    "        return result\n",
    "    return wrapper\n",
    "\n",
    "@time_it\n",
    "def calc_square(numbers):\n",
    "    result = []\n",
    "    for number in numbers:\n",
    "        result.append(number*number)\n",
    "    return result\n",
    "\n",
    "@time_it\n",
    "def calc_cube(numbers):\n",
    "    result = []\n",
    "    for number in numbers:\n",
    "        result.append(number*number*number)\n",
    "    return result\n",
    "\n",
    "array = range(1, 100000)\n",
    "out_square = calc_square(array)\n",
    "out_cube = calc_cube(array)"
   ]
  },
  {
   "cell_type": "markdown",
   "metadata": {},
   "source": [
    "### Decorador para medir el tiempo de ejecución y escribir logs"
   ]
  },
  {
   "cell_type": "code",
   "execution_count": 1,
   "metadata": {},
   "outputs": [
    {
     "name": "stdout",
     "output_type": "stream",
     "text": [
      "display_info ran in: 1.0002741813659668 sec.\n"
     ]
    }
   ],
   "source": [
    "from functools import wraps\n",
    "import time\n",
    "\n",
    "def my_logger(orig_func):\n",
    "    import logging\n",
    "    logging.basicConfig(filename='{}.log'.format(orig_func.__name__), level=logging.INFO)\n",
    "    \n",
    "    @wraps(orig_func)\n",
    "    def wrapper(*args, **kwargs):\n",
    "        logging.info(f'Ran with args: {args}, and kwargs {kwargs}')\n",
    "        return orig_func(*args, **kwargs)\n",
    "    \n",
    "    return wrapper\n",
    "\n",
    "def my_timer(orig_func):\n",
    "    \n",
    "    @wraps(orig_func)\n",
    "    def wrapper(*args, **kwargs):\n",
    "        t1 = time.time()\n",
    "        result = orig_func(*args, **kwargs)\n",
    "        t2 = time.time() - t1\n",
    "        \n",
    "        print(f'{orig_func.__name__} ran in: {t2} sec.')\n",
    "        return result\n",
    "    \n",
    "    return wrapper\n",
    "\n",
    "\n",
    "@my_logger\n",
    "@my_timer\n",
    "def display_info(name, age):\n",
    "    time.sleep(1)\n",
    "    #print(f'display_info ran with arguments ({name}, {age})')\n",
    "\n",
    "\n",
    "display_info('María', 23)"
   ]
  }
 ],
 "metadata": {
  "kernelspec": {
   "display_name": "Python 3",
   "language": "python",
   "name": "python3"
  },
  "language_info": {
   "codemirror_mode": {
    "name": "ipython",
    "version": 3
   },
   "file_extension": ".py",
   "mimetype": "text/x-python",
   "name": "python",
   "nbconvert_exporter": "python",
   "pygments_lexer": "ipython3",
   "version": "3.7.6"
  }
 },
 "nbformat": 4,
 "nbformat_minor": 4
}
