{
 "cells": [
  {
   "cell_type": "markdown",
   "metadata": {},
   "source": [
    "## ¿Por qué usarías una lista de comprensión?\n",
    "\n",
    "Para hacer lo mismo en menos líneas de código."
   ]
  },
  {
   "cell_type": "markdown",
   "metadata": {},
   "source": [
    "## El ejemplo del carrito de compras\n",
    "Digamos que está comprando en una tienda de matemáticas y tiene en su carrito un montón de números diferentes."
   ]
  },
  {
   "cell_type": "code",
   "execution_count": 2,
   "metadata": {},
   "outputs": [],
   "source": [
    "# carrito de compras lleno de números (una lista de números de Python)\n",
    "cart = [5, 7, 9, 10, 12, 15, 19, 20, 22]"
   ]
  },
  {
   "cell_type": "markdown",
   "metadata": {},
   "source": [
    "Te das cuenta de que has hecho suficientes compras y decides ir al cajero y comenzar a pasarles los artículos uno por uno."
   ]
  },
  {
   "cell_type": "code",
   "execution_count": 3,
   "metadata": {},
   "outputs": [
    {
     "name": "stdout",
     "output_type": "stream",
     "text": [
      "[5, 7, 9, 10, 12, 15, 19, 20, 22]\n"
     ]
    }
   ],
   "source": [
    "cashier = [] # el cajero comienza con cero artículos\n",
    "for item in cart: # repasar cada artículo uno por uno\n",
    "    cashier.append(item) # entregar al cajero cada artículo\n",
    "print(cashier) # verifica qué artículos tiene el cajero"
   ]
  },
  {
   "cell_type": "code",
   "execution_count": 4,
   "metadata": {},
   "outputs": [
    {
     "data": {
      "text/plain": [
       "[5, 7, 9, 10, 12, 15, 19, 20, 22]"
      ]
     },
     "execution_count": 4,
     "metadata": {},
     "output_type": "execute_result"
    }
   ],
   "source": [
    "cart"
   ]
  },
  {
   "cell_type": "markdown",
   "metadata": {},
   "source": [
    "Ahora, ¿cómo puedes hacer esto más corto? ¿Podría hacerlo en una línea de código en lugar de tres?\n",
    "\n",
    "Aquí es donde entran en juego las comprensiones de listas.\n",
    "\n",
    "Verifiquemos el uso de un cajero diferente para asegurarnos."
   ]
  },
  {
   "cell_type": "code",
   "execution_count": 5,
   "metadata": {},
   "outputs": [
    {
     "name": "stdout",
     "output_type": "stream",
     "text": [
      "[5, 7, 9, 10, 12, 15, 19, 20, 22]\n"
     ]
    }
   ],
   "source": [
    "cashier2 = [item for item in cart]\n",
    "print(cashier2)"
   ]
  },
  {
   "cell_type": "markdown",
   "metadata": {},
   "source": [
    "¿Espere? ¿Seguramente esto no puede ser lo mismo que las líneas de arriba?\n",
    "\n",
    "Vamos a revisar."
   ]
  },
  {
   "cell_type": "code",
   "execution_count": 6,
   "metadata": {},
   "outputs": [
    {
     "data": {
      "text/plain": [
       "True"
      ]
     },
     "execution_count": 6,
     "metadata": {},
     "output_type": "execute_result"
    }
   ],
   "source": [
    "cashier == cashier2"
   ]
  },
  {
   "cell_type": "markdown",
   "metadata": {},
   "source": [
    "Son exactamente lo mismo!\n",
    "\n",
    "¿Que esta pasando aqui?"
   ]
  },
  {
   "cell_type": "markdown",
   "metadata": {},
   "source": [
    "<img src=\"images/list-comprehensions-1.png\" alt=\"Drawing\" style=\"width: 700px;\"/>"
   ]
  },
  {
   "cell_type": "markdown",
   "metadata": {},
   "source": [
    "\n",
    "Cada uno de los colores corresponde a lo que sucede en cada sección del código.\n",
    "\n",
    "1. `cashier` se crea en azul. A la izquierda se crea en su propia línea. A la derecha, se crea al mismo tiempo que se está creando todo lo demás.\n",
    "\n",
    "2. `cart` se repite en verde. `item` se crea como para el ciclo de ejecución. Esto es lo mismo que tomar un `artículo` a la vez de su carrito de compras y pasarlo al cajero.\n",
    "\n",
    "3. `carrier` se actualiza en rojo con cada `item`. La única diferencia está a la izquierda, se requiere una declaración `append`. La comprensión de la lista a la derecha niega la necesidad de una declaración `append`."
   ]
  },
  {
   "cell_type": "markdown",
   "metadata": {},
   "source": [
    "## Algunos ejemplos más de carrito de compras"
   ]
  },
  {
   "cell_type": "markdown",
   "metadata": {},
   "source": [
    "Al tercer cajero solo le gusta trabajar con números pares. ¿Cómo podríamos lidiar con eso?\n",
    "\n",
    "Probemos una versión de comprensión sin lista."
   ]
  },
  {
   "cell_type": "code",
   "execution_count": 7,
   "metadata": {},
   "outputs": [
    {
     "data": {
      "text/plain": [
       "[5, 7, 9, 10, 12, 15, 19, 20, 22]"
      ]
     },
     "execution_count": 7,
     "metadata": {},
     "output_type": "execute_result"
    }
   ],
   "source": [
    "cart"
   ]
  },
  {
   "cell_type": "code",
   "execution_count": 8,
   "metadata": {},
   "outputs": [
    {
     "name": "stdout",
     "output_type": "stream",
     "text": [
      "[10, 12, 20, 22]\n"
     ]
    }
   ],
   "source": [
    "# Solo da números pares al cashier_3\n",
    "cashier_3 = []\n",
    "for item in cart:\n",
    "    if item % 2 == 0:\n",
    "        cashier_3.append(item)\n",
    "print(cashier_3)"
   ]
  },
  {
   "cell_type": "markdown",
   "metadata": {},
   "source": [
    "¿Cómo podrías hacer esto con una lista de comprensión?"
   ]
  },
  {
   "cell_type": "code",
   "execution_count": 9,
   "metadata": {},
   "outputs": [
    {
     "name": "stdout",
     "output_type": "stream",
     "text": [
      "[10, 12, 20, 22]\n"
     ]
    }
   ],
   "source": [
    "cashier_3 = [item for item in cart if item % 2 == 0]\n",
    "print(cashier_3)"
   ]
  },
  {
   "cell_type": "markdown",
   "metadata": {},
   "source": [
    "¿Que esta pasando aqui?"
   ]
  },
  {
   "cell_type": "markdown",
   "metadata": {},
   "source": [
    "<img src=\"images/list-comprehensions-2.png\" alt=\"Drawing\" style=\"width: 700px;\"/>"
   ]
  },
  {
   "cell_type": "markdown",
   "metadata": {},
   "source": [
    "\n",
    "\n",
    "Es similar al ejemplo anterior, excepto que ahora tenemos una declaración condicional en amarillo.\n",
    "\n",
    "1. \"cashier_3\" se crea en azul. En el código superior se crea en su propia línea. A continuación, se crea al mismo tiempo que se está creando todo lo demás.\n",
    "\n",
    "2. \"cart\" se repite en verde. \"item\" se crea en el ciclo de ejecución. Esto es lo mismo que tomar un \"artículo\" a la vez de su carrito de compras y pasarlo al cajero.\n",
    "\n",
    "3. A medida que cada \"item\" se pasa al \"cashier_3\", se verifica para ver si coincide con el condicional en amarillo. \n",
    "    - Ejemplo: \"10% 2 = 0\", el símbolo \"%\" se llama módulo. Devuelve el resto de un número dividido por otro.\n",
    "     \n",
    "    - Ejemplo 2: \"19% 2 = 1\" porque \"19 = 9 * 2 + 1\".\n",
    "\n",
    "4. \"cashier_3\" se actualiza en rojo con cada \"elemento\" siempre que cumpla el condicional en amarillo. La comprensión de la lista niega la necesidad de una declaración de \"append\"."
   ]
  },
  {
   "cell_type": "markdown",
   "metadata": {},
   "source": [
    "El cuarto cajero solo acepta números superiores a 100 y son impares. ¿Cómo cambiaría cada uno de los números en `cart` antes de dárselos a` cashier_4`?"
   ]
  },
  {
   "cell_type": "code",
   "execution_count": 10,
   "metadata": {},
   "outputs": [
    {
     "data": {
      "text/plain": [
       "[5, 7, 9, 10, 12, 15, 19, 20, 22]"
      ]
     },
     "execution_count": 10,
     "metadata": {},
     "output_type": "execute_result"
    }
   ],
   "source": [
    "cart"
   ]
  },
  {
   "cell_type": "code",
   "execution_count": 13,
   "metadata": {},
   "outputs": [
    {
     "name": "stdout",
     "output_type": "stream",
     "text": [
      "[105, 107, 109, 115, 119]\n"
     ]
    }
   ],
   "source": [
    "# Solo déle al cajero 4 números impares sobre 100\n",
    "cashier_4 = []\n",
    "for item in cart:\n",
    "    item += 100 # agregue 100 a cada elemento para llevarlos a más de 100\n",
    "    if item % 2 == 1: # verifica si son impares o no\n",
    "        cashier_4.append(item)\n",
    "print(cashier_4)"
   ]
  },
  {
   "cell_type": "markdown",
   "metadata": {},
   "source": [
    "Ahora haz lo mismo con una lista de comprensión."
   ]
  },
  {
   "cell_type": "code",
   "execution_count": 12,
   "metadata": {},
   "outputs": [
    {
     "name": "stdout",
     "output_type": "stream",
     "text": [
      "[105, 107, 109, 115, 119]\n"
     ]
    }
   ],
   "source": [
    "cashier_4 = [item+100 for item in cart if item % 2 == 1]\n",
    "print(cashier_4)"
   ]
  },
  {
   "cell_type": "markdown",
   "metadata": {},
   "source": [
    "## ¿Qué pasa si no tienes una lista de números para empezar?"
   ]
  },
  {
   "cell_type": "code",
   "execution_count": 14,
   "metadata": {},
   "outputs": [
    {
     "name": "stdout",
     "output_type": "stream",
     "text": [
      "[0, 1, 2, 3, 4, 5, 6, 7, 8, 9, 10, 11, 12, 13, 14, 15, 16, 17, 18, 19, 20, 21, 22, 23, 24, 25, 26, 27, 28, 29, 30, 31, 32, 33, 34, 35, 36, 37, 38, 39, 40, 41, 42, 43, 44, 45, 46, 47, 48, 49, 50, 51, 52, 53, 54, 55, 56, 57, 58, 59, 60, 61, 62, 63, 64, 65, 66, 67, 68, 69, 70, 71, 72, 73, 74, 75, 76, 77, 78, 79, 80, 81, 82, 83, 84, 85, 86, 87, 88, 89, 90, 91, 92, 93, 94, 95, 96, 97, 98, 99]\n"
     ]
    }
   ],
   "source": [
    "# Versión sin comprensión de listas\n",
    "a = []\n",
    "for i in range(100):\n",
    "    a.append(i)\n",
    "print(a)"
   ]
  },
  {
   "cell_type": "code",
   "execution_count": 15,
   "metadata": {},
   "outputs": [
    {
     "name": "stdout",
     "output_type": "stream",
     "text": [
      "[0, 1, 2, 3, 4, 5, 6, 7, 8, 9, 10, 11, 12, 13, 14, 15, 16, 17, 18, 19, 20, 21, 22, 23, 24, 25, 26, 27, 28, 29, 30, 31, 32, 33, 34, 35, 36, 37, 38, 39, 40, 41, 42, 43, 44, 45, 46, 47, 48, 49, 50, 51, 52, 53, 54, 55, 56, 57, 58, 59, 60, 61, 62, 63, 64, 65, 66, 67, 68, 69, 70, 71, 72, 73, 74, 75, 76, 77, 78, 79, 80, 81, 82, 83, 84, 85, 86, 87, 88, 89, 90, 91, 92, 93, 94, 95, 96, 97, 98, 99]\n"
     ]
    }
   ],
   "source": [
    "# Versión utilizando comprensión de listas\n",
    "b = [i for i in range(100)]\n",
    "print(b)"
   ]
  },
  {
   "cell_type": "markdown",
   "metadata": {},
   "source": [
    "¿Es `a` lo mismo que` b`?"
   ]
  },
  {
   "cell_type": "code",
   "execution_count": 16,
   "metadata": {},
   "outputs": [
    {
     "name": "stdout",
     "output_type": "stream",
     "text": [
      "Usted apuesta!\n"
     ]
    }
   ],
   "source": [
    "if a == b:\n",
    "    print('Usted apuesta!')"
   ]
  },
  {
   "cell_type": "markdown",
   "metadata": {},
   "source": [
    "## ¿Qué hay de comparar dos listas?\n",
    "\n",
    "Comparemos dos carritos de compras diferentes."
   ]
  },
  {
   "cell_type": "code",
   "execution_count": 18,
   "metadata": {},
   "outputs": [],
   "source": [
    "cart_1 = [1, 8, 29, 34, 58, 74, 88, 99]\n",
    "cart_2 = [3, 8, 31, 36, 58, 77, 88, 93]"
   ]
  },
  {
   "cell_type": "markdown",
   "metadata": {},
   "source": [
    "`cashier_5` solo toma dos del mismo artículo a la vez."
   ]
  },
  {
   "cell_type": "code",
   "execution_count": 19,
   "metadata": {},
   "outputs": [
    {
     "name": "stdout",
     "output_type": "stream",
     "text": [
      "[8, 58, 88]\n"
     ]
    }
   ],
   "source": [
    "# Versión de lista sin compresión \n",
    "cashier_5 = []\n",
    "for item in cart_1:\n",
    "    if item in cart_2:\n",
    "        cashier_5.append(item)\n",
    "print(cashier_5)"
   ]
  },
  {
   "cell_type": "code",
   "execution_count": 20,
   "metadata": {},
   "outputs": [
    {
     "data": {
      "text/plain": [
       "[8, 58, 88]"
      ]
     },
     "execution_count": 20,
     "metadata": {},
     "output_type": "execute_result"
    }
   ],
   "source": [
    "# Empleando comprensión de listas\n",
    "cashier_5 = [item for item in cart_1 if item in cart_2]\n",
    "cashier_5"
   ]
  },
  {
   "cell_type": "markdown",
   "metadata": {},
   "source": [
    "## Tiempo de desafío!"
   ]
  },
  {
   "cell_type": "markdown",
   "metadata": {},
   "source": [
    "¿Cómo podría agregar estas dos listas juntas para `cashier_6`?"
   ]
  },
  {
   "cell_type": "code",
   "execution_count": 21,
   "metadata": {},
   "outputs": [
    {
     "name": "stdout",
     "output_type": "stream",
     "text": [
      "[4, 16, 60, 70, 116, 151, 176, 192]\n"
     ]
    }
   ],
   "source": [
    "# sin compensión de listas\n",
    "cashier_6 = []\n",
    "for item_1, item_2 in zip(cart_1, cart_2):\n",
    "    cashier_6.append(item_1 + item_2)\n",
    "print(cashier_6)"
   ]
  },
  {
   "cell_type": "markdown",
   "metadata": {},
   "source": [
    "Todavía no hemos superado la función `zip` pero aquí hay una pista de lo que está haciendo.\n",
    "¿Recuerdas cómo se ven `cart_1` y` cart_2`?"
   ]
  },
  {
   "cell_type": "code",
   "execution_count": 22,
   "metadata": {},
   "outputs": [
    {
     "name": "stdout",
     "output_type": "stream",
     "text": [
      "[1, 8, 29, 34, 58, 74, 88, 99]\n",
      "[3, 8, 31, 36, 58, 77, 88, 93]\n"
     ]
    }
   ],
   "source": [
    "print(cart_1)\n",
    "print(cart_2)"
   ]
  },
  {
   "cell_type": "markdown",
   "metadata": {},
   "source": [
    "Vamos a 'comprimirlos' juntos."
   ]
  },
  {
   "cell_type": "code",
   "execution_count": 23,
   "metadata": {},
   "outputs": [
    {
     "name": "stdout",
     "output_type": "stream",
     "text": [
      "[(1, 3), (8, 8), (29, 31), (34, 36), (58, 58), (74, 77), (88, 88), (99, 93)]\n"
     ]
    }
   ],
   "source": [
    "cart_3 = list(zip(cart_1, cart_2))\n",
    "print(cart_3)"
   ]
  },
  {
   "cell_type": "markdown",
   "metadata": {},
   "source": [
    "Ahora que has visto esto, ¿cómo podrías convertir el código de comprensión de `cajero_6` sin lista en una lista de comprensión?"
   ]
  },
  {
   "cell_type": "code",
   "execution_count": 26,
   "metadata": {},
   "outputs": [
    {
     "name": "stdout",
     "output_type": "stream",
     "text": [
      "[4, 16, 60, 70, 116, 151, 176, 192]\n"
     ]
    }
   ],
   "source": [
    "# Solución 1\n",
    "cashier_6 = [item1 + item2 for item1, item2 in list(zip(cart_1, cart_2))]\n",
    "print(cashier_6)\n"
   ]
  },
  {
   "cell_type": "code",
   "execution_count": 28,
   "metadata": {},
   "outputs": [
    {
     "name": "stdout",
     "output_type": "stream",
     "text": [
      "[4, 16, 60, 70, 116, 151, 176, 192]\n"
     ]
    }
   ],
   "source": [
    "# Solución 2\n",
    "cashier_6 = [item[0] + item[1] for item in list(zip(cart_1, cart_2))]\n",
    "print(cashier_6)"
   ]
  },
  {
   "cell_type": "markdown",
   "metadata": {},
   "source": [
    "Si te quedas atascado, este hilo de Stackoverflow debería ayudarte:https://stackoverflow.com/questions/14050824/add-sum-of-values-of-two-lists-into-new-list\n",
    "\n",
    "** Desafío adicional: ** Parte de ser un buen programador de Python es investigar qué hacen las diferentes funciones. ¿Puedes encontrar un recurso que explique la función `zip`?"
   ]
  },
  {
   "cell_type": "markdown",
   "metadata": {},
   "source": [
    "### Conversión de Km a pies"
   ]
  },
  {
   "cell_type": "code",
   "execution_count": 29,
   "metadata": {},
   "outputs": [],
   "source": [
    "# Incicilizar la lista \"Kilometer\"\n",
    "kilometer = [39.2, 36.5, 37.3, 37.8]\n"
   ]
  },
  {
   "cell_type": "code",
   "execution_count": 30,
   "metadata": {},
   "outputs": [
    {
     "name": "stdout",
     "output_type": "stream",
     "text": [
      "[128608.92408000001, 119750.65635, 122375.32826999998, 124015.74822]\n"
     ]
    }
   ],
   "source": [
    "# Conversiónde kilometros a pies (multiplicar cada valor de la lista por 3280.8399)\n",
    "feet = [float(3280.8399) * val for val in kilometer]\n",
    "\n",
    "print(feet)"
   ]
  },
  {
   "cell_type": "markdown",
   "metadata": {},
   "source": [
    "#### Lista de cuadrados"
   ]
  },
  {
   "cell_type": "markdown",
   "metadata": {},
   "source": [
    "Obtener el cuadrado de los valores de 1 al 100"
   ]
  },
  {
   "cell_type": "code",
   "execution_count": 34,
   "metadata": {},
   "outputs": [
    {
     "name": "stdout",
     "output_type": "stream",
     "text": [
      "[1, 4, 9, 16, 25, 36, 49, 64, 81, 100, 121, 144, 169, 196, 225, 256, 289, 324, 361, 400, 441, 484, 529, 576, 625, 676, 729, 784, 841, 900, 961, 1024, 1089, 1156, 1225, 1296, 1369, 1444, 1521, 1600, 1681, 1764, 1849, 1936, 2025, 2116, 2209, 2304, 2401, 2500, 2601, 2704, 2809, 2916, 3025, 3136, 3249, 3364, 3481, 3600, 3721, 3844, 3969, 4096, 4225, 4356, 4489, 4624, 4761, 4900, 5041, 5184, 5329, 5476, 5625, 5776, 5929, 6084, 6241, 6400, 6561, 6724, 6889, 7056, 7225, 7396, 7569, 7744, 7921, 8100, 8281, 8464, 8649, 8836, 9025, 9216, 9409, 9604, 9801, 10000]\n"
     ]
    }
   ],
   "source": [
    "\n",
    "squares2 = [val**2 for val in range(1,101)]\n",
    "print(squares2)"
   ]
  },
  {
   "cell_type": "markdown",
   "metadata": {},
   "source": [
    "#### Movies"
   ]
  },
  {
   "cell_type": "markdown",
   "metadata": {},
   "source": [
    "Imprimir todas las películas que inicien con la letra \"G\""
   ]
  },
  {
   "cell_type": "code",
   "execution_count": 37,
   "metadata": {},
   "outputs": [
    {
     "name": "stdout",
     "output_type": "stream",
     "text": [
      "['Gandhy', 'Gone with the Wind']\n"
     ]
    }
   ],
   "source": [
    "movies = [\"Start Wars\", \"Gandhy\", \"Casablanca\", \"Shawshank Redemption\", \"Toy Story\",\n",
    "         \"Gone with the Wind\", \"Citizen\"]\n",
    "\n",
    "gmovies = []\n",
    "for title in movies:\n",
    "    if title.startswith(\"G\"):\n",
    "        gmovies.append(title)\n",
    "        \n",
    "print(gmovies)"
   ]
  },
  {
   "cell_type": "code",
   "execution_count": 39,
   "metadata": {},
   "outputs": [
    {
     "name": "stdout",
     "output_type": "stream",
     "text": [
      "['Gandhy', 'Gone with the Wind']\n"
     ]
    }
   ],
   "source": [
    "gmovies  = [title for title in movies if title.startswith(\"G\")]\n",
    "print(gmovies)"
   ]
  },
  {
   "cell_type": "markdown",
   "metadata": {},
   "source": [
    "#### Encuentra películas estrenadas antes del 2000"
   ]
  },
  {
   "cell_type": "code",
   "execution_count": 42,
   "metadata": {},
   "outputs": [
    {
     "name": "stdout",
     "output_type": "stream",
     "text": [
      "['Citizen Kane', \"It's a Wonderful Life\", 'Gattaca']\n"
     ]
    }
   ],
   "source": [
    "movies = [(\"Citizen Kane\", 1941), (\"Spirited Away\", 2001), \n",
    "          (\"It's a Wonderful Life\", 1946), (\"Gattaca\", 1997)]\n",
    "\n",
    "pre2k = [title for title, year in movies if year < 2000]\n",
    "print(pre2k)"
   ]
  },
  {
   "cell_type": "markdown",
   "metadata": {},
   "source": [
    "#### Multplicación escalar"
   ]
  },
  {
   "cell_type": "code",
   "execution_count": 43,
   "metadata": {},
   "outputs": [
    {
     "data": {
      "text/plain": [
       "[2, -3, 1, 2, -3, 1, 2, -3, 1, 2, -3, 1]"
      ]
     },
     "execution_count": 43,
     "metadata": {},
     "output_type": "execute_result"
    }
   ],
   "source": [
    "v = [2, -3, 1]\n",
    "\n",
    "# intentado resolver\n",
    "4*v"
   ]
  },
  {
   "cell_type": "code",
   "execution_count": 45,
   "metadata": {},
   "outputs": [
    {
     "data": {
      "text/plain": [
       "[8, -12, 4]"
      ]
     },
     "execution_count": 45,
     "metadata": {},
     "output_type": "execute_result"
    }
   ],
   "source": [
    "# respuesta\n",
    "w = [item*4 for item in v]\n",
    "w"
   ]
  },
  {
   "cell_type": "markdown",
   "metadata": {},
   "source": [
    "#### Producto Cartesiano\n",
    "\n",
    "$AxB = \\{(a, b) | a \\in A, b \\in B\\}$"
   ]
  },
  {
   "cell_type": "code",
   "execution_count": 48,
   "metadata": {},
   "outputs": [
    {
     "name": "stdout",
     "output_type": "stream",
     "text": [
      "[(1, 2), (1, 4), (1, 6), (1, 8), (3, 2), (3, 4), (3, 6), (3, 8), (5, 2), (5, 4), (5, 6), (5, 8), (7, 2), (7, 4), (7, 6), (7, 8)]\n"
     ]
    }
   ],
   "source": [
    "A = [1, 3, 5, 7]\n",
    "B = [2, 4, 6, 8]\n",
    "\n",
    "cartesian_product = [(a, b) for a in A for b in B]\n",
    "print(cartesian_product)"
   ]
  },
  {
   "cell_type": "markdown",
   "metadata": {},
   "source": [
    "### Selección de distancias impares\n"
   ]
  },
  {
   "cell_type": "code",
   "execution_count": 49,
   "metadata": {},
   "outputs": [
    {
     "data": {
      "text/plain": [
       "[128608.92408000001, 119750.65635, 122375.32826999998, 124015.74822]"
      ]
     },
     "execution_count": 49,
     "metadata": {},
     "output_type": "execute_result"
    }
   ],
   "source": [
    "feet"
   ]
  },
  {
   "cell_type": "code",
   "execution_count": 50,
   "metadata": {},
   "outputs": [
    {
     "data": {
      "text/plain": [
       "[128608, 119750, 122375, 124015]"
      ]
     },
     "execution_count": 50,
     "metadata": {},
     "output_type": "execute_result"
    }
   ],
   "source": [
    "# Construyendo 'feet'\n",
    "feet = [int(x) for x in feet]\n",
    "feet"
   ]
  },
  {
   "cell_type": "code",
   "execution_count": 51,
   "metadata": {},
   "outputs": [
    {
     "name": "stdout",
     "output_type": "stream",
     "text": [
      "[128608, 119750, 122375, 124015]\n",
      "[122375, 124015]\n"
     ]
    }
   ],
   "source": [
    "# Imprimir `feet`\n",
    "print(feet)\n",
    "\n",
    "# Obtener todas las distancias impares\n",
    "uneven = [val for val in feet if val % 2 == 1]\n",
    "\n",
    "# Imprimir `uneven`\n",
    "print(uneven)"
   ]
  },
  {
   "cell_type": "markdown",
   "metadata": {},
   "source": [
    "### Multiplipes condiciones if"
   ]
  },
  {
   "cell_type": "code",
   "execution_count": 52,
   "metadata": {},
   "outputs": [
    {
     "name": "stdout",
     "output_type": "stream",
     "text": [
      "[0, 6, 12, 18, 24, 30, 36, 42, 48, 54, 60, 66, 72, 78, 84, 90, 96]\n"
     ]
    }
   ],
   "source": [
    "# problema resuelto sin comprensión de listas\n",
    "divided = []\n",
    "\n",
    "for x in range(100):\n",
    "    if x%2 == 0 :\n",
    "        if x%6 == 0:\n",
    "            divided.append(x)\n",
    "            \n",
    "\n",
    "print(divided)"
   ]
  },
  {
   "cell_type": "code",
   "execution_count": 54,
   "metadata": {},
   "outputs": [
    {
     "name": "stdout",
     "output_type": "stream",
     "text": [
      "[0, 6, 12, 18, 24, 30, 36, 42, 48, 54, 60, 66, 72, 78, 84, 90, 96]\n"
     ]
    }
   ],
   "source": [
    "divided = [x for x in range(100) if x % 2 == 0 and x % 6 == 0]\n",
    "\n",
    "print(divided)"
   ]
  },
  {
   "cell_type": "markdown",
   "metadata": {},
   "source": [
    "### Condiciones If-Else"
   ]
  },
  {
   "cell_type": "markdown",
   "metadata": {},
   "source": [
    "```\n",
    "for x in feet:  \n",
    "    if x >= 120000:\n",
    "        x + 1\n",
    "    else:\n",
    "        x+5\n",
    "\n",
    "```"
   ]
  },
  {
   "cell_type": "code",
   "execution_count": 55,
   "metadata": {},
   "outputs": [
    {
     "data": {
      "text/plain": [
       "[128608, 119750, 122375, 124015]"
      ]
     },
     "execution_count": 55,
     "metadata": {},
     "output_type": "execute_result"
    }
   ],
   "source": [
    "feet"
   ]
  },
  {
   "cell_type": "code",
   "execution_count": 57,
   "metadata": {},
   "outputs": [
    {
     "data": {
      "text/plain": [
       "[128609, 119755, 122376, 124016]"
      ]
     },
     "execution_count": 57,
     "metadata": {},
     "output_type": "execute_result"
    }
   ],
   "source": [
    "[x+1 if x >= 120000 else x+5 for x in feet]"
   ]
  },
  {
   "cell_type": "markdown",
   "metadata": {},
   "source": [
    "### Comprensión de listas anidadas"
   ]
  },
  {
   "cell_type": "code",
   "execution_count": 59,
   "metadata": {},
   "outputs": [
    {
     "name": "stdout",
     "output_type": "stream",
     "text": [
      "[1, 2, 3, 4, 5, 6, 7, 8]\n"
     ]
    }
   ],
   "source": [
    "# Ejemplo 1\n",
    "list_of_list = [[1,2,3],[4,5,6],[7,8]]\n",
    "\n",
    "# Aplanar `list_of_list`\n",
    "lista_aplanada = [val for lista in list_of_list for val in lista]\n",
    "print(lista_aplanada)"
   ]
  },
  {
   "cell_type": "code",
   "execution_count": 60,
   "metadata": {},
   "outputs": [
    {
     "data": {
      "text/plain": [
       "[[1, 4, 7], [2, 5, 8], [3, 6, 9]]"
      ]
     },
     "execution_count": 60,
     "metadata": {},
     "output_type": "execute_result"
    }
   ],
   "source": [
    "# Ejemplo 2\n",
    "matrix = [[1,2,3],[4,5,6],[7,8,9]]\n",
    "\n",
    "[[row[i] for row in matrix] for i in range(3)]"
   ]
  },
  {
   "cell_type": "code",
   "execution_count": 61,
   "metadata": {},
   "outputs": [
    {
     "data": {
      "text/plain": [
       "[[128608, 119750, 122375, 124015],\n",
       " [128608, 119750, 122375, 124015],\n",
       " [128608, 119750, 122375, 124015],\n",
       " [128608, 119750, 122375, 124015]]"
      ]
     },
     "execution_count": 61,
     "metadata": {},
     "output_type": "execute_result"
    }
   ],
   "source": [
    "# Ejemplo 3\n",
    "[[int(x) for x in feet] for x in feet]\n"
   ]
  },
  {
   "cell_type": "markdown",
   "metadata": {},
   "source": [
    "---\n",
    "\n",
    "### List comprehension"
   ]
  },
  {
   "cell_type": "code",
   "execution_count": 62,
   "metadata": {},
   "outputs": [
    {
     "data": {
      "text/plain": [
       "[0, 2, 4, 6, 8, 10]"
      ]
     },
     "execution_count": 62,
     "metadata": {},
     "output_type": "execute_result"
    }
   ],
   "source": [
    "a = [1, 3, 5, 7, 9, 11]\n",
    "[i - 1 for i in a]"
   ]
  },
  {
   "cell_type": "markdown",
   "metadata": {},
   "source": [
    "### Set comprehension"
   ]
  },
  {
   "cell_type": "code",
   "execution_count": 63,
   "metadata": {},
   "outputs": [
    {
     "data": {
      "text/plain": [
       "{'ABC', 'DEF'}"
      ]
     },
     "execution_count": 63,
     "metadata": {},
     "output_type": "execute_result"
    }
   ],
   "source": [
    "b = {\"abc\", \"def\"}\n",
    "{s.upper() for s in b}"
   ]
  },
  {
   "cell_type": "markdown",
   "metadata": {},
   "source": [
    "### Dict comprehension"
   ]
  },
  {
   "cell_type": "code",
   "execution_count": 65,
   "metadata": {},
   "outputs": [
    {
     "data": {
      "text/plain": [
       "{('Pooka', 'name'), (5, 'age')}"
      ]
     },
     "execution_count": 65,
     "metadata": {},
     "output_type": "execute_result"
    }
   ],
   "source": [
    "c = {'name': 'Pooka', 'age': 5}\n",
    "{(v, k) for k, v in c.items()}"
   ]
  },
  {
   "cell_type": "markdown",
   "metadata": {},
   "source": [
    "A List comprehension can be generated from a dictionary:"
   ]
  },
  {
   "cell_type": "code",
   "execution_count": 66,
   "metadata": {},
   "outputs": [
    {
     "data": {
      "text/plain": [
       "['NAME:POOKA', 'FIRST_NAME:OOOKA']"
      ]
     },
     "execution_count": 66,
     "metadata": {},
     "output_type": "execute_result"
    }
   ],
   "source": [
    "c = {'name': 'Pooka', 'first_name': 'Oooka'}\n",
    "[\"{}:{}\".format(k.upper(), v.upper()) for k, v in c.items()]"
   ]
  },
  {
   "cell_type": "markdown",
   "metadata": {},
   "source": [
    "---\n"
   ]
  },
  {
   "cell_type": "markdown",
   "metadata": {},
   "source": [
    "# Laboratorio de Comprensión de Listas\n",
    "\n",
    "Complete el siguiente conjunto de ejercicios para solidificar su conocimiento de las comprensiones de la lista."
   ]
  },
  {
   "cell_type": "code",
   "execution_count": 67,
   "metadata": {},
   "outputs": [],
   "source": [
    "import os\n",
    "import numpy as np\n",
    "import pandas as pd"
   ]
  },
  {
   "cell_type": "markdown",
   "metadata": {},
   "source": [
    "### 1. Utilice la comprensión de listas para crear e imprimir una lista de números enteros consecutivos que empiecen con 1 y terminen con 50."
   ]
  },
  {
   "cell_type": "code",
   "execution_count": 68,
   "metadata": {},
   "outputs": [
    {
     "name": "stdout",
     "output_type": "stream",
     "text": [
      "[1, 2, 3, 4, 5, 6, 7, 8, 9, 10, 11, 12, 13, 14, 15, 16, 17, 18, 19, 20, 21, 22, 23, 24, 25, 26, 27, 28, 29, 30, 31, 32, 33, 34, 35, 36, 37, 38, 39, 40, 41, 42, 43, 44, 45, 46, 47, 48, 49, 50]\n"
     ]
    }
   ],
   "source": [
    "list_num = [val for val in range(1, 51)]\n",
    "print(list_num)"
   ]
  },
  {
   "cell_type": "markdown",
   "metadata": {},
   "source": [
    "### 2. Crear una lista de todos los números del 1 al 100 que tienen un 9 en ellos"
   ]
  },
  {
   "cell_type": "code",
   "execution_count": 73,
   "metadata": {},
   "outputs": [
    {
     "name": "stdout",
     "output_type": "stream",
     "text": [
      "[9, 19, 29, 39, 49, 59, 69, 79, 89, 90, 91, 92, 93, 94, 95, 96, 97, 98, 99]\n"
     ]
    }
   ],
   "source": [
    "list_tiene_9 = [val for val in range(1, 101) if '9' in str(val)]\n",
    "print(list_tiene_9)"
   ]
  },
  {
   "cell_type": "markdown",
   "metadata": {},
   "source": [
    "### 3. Quita todas las vocales y espacios de la cadena \"Hoy es MARTES\". Sacar una lista con sólo las letras de la cadena - menos las vocales y los espacios"
   ]
  },
  {
   "cell_type": "code",
   "execution_count": 75,
   "metadata": {},
   "outputs": [
    {
     "name": "stdout",
     "output_type": "stream",
     "text": [
      "['H', 'y', 's', 'M', 'R', 'T', 'S']\n"
     ]
    }
   ],
   "source": [
    "# Use esta cadena en su lista de comprensión\n",
    "input_string = \"Hoy es MARTES\"\n",
    "\n",
    "input_mod = [letter  for letter in input_string if letter.upper() not in 'AEIOU ']\n",
    "print(input_mod)"
   ]
  },
  {
   "cell_type": "markdown",
   "metadata": {},
   "source": [
    "### 4. Encuentra todas las palabras de una cadena que tengan menos de 4 letras. Usa la cadena \"A quick brown fox jumped over the lazy dog\" "
   ]
  },
  {
   "cell_type": "code",
   "execution_count": 78,
   "metadata": {},
   "outputs": [
    {
     "name": "stdout",
     "output_type": "stream",
     "text": [
      "['A', 'fox', 'the', 'dog']\n"
     ]
    }
   ],
   "source": [
    "string_in = \"A quick brown fox jumped over the lazy dog\"\n",
    "string_mod =  [word for word in string_in.split(' ') if len(word) < 4]\n",
    "print(string_mod)"
   ]
  },
  {
   "cell_type": "markdown",
   "metadata": {},
   "source": [
    "### 5. Use la comprensión de listas para crear e imprimir una lista de números pares que empiecen con el 2 y terminen con el 200."
   ]
  },
  {
   "cell_type": "code",
   "execution_count": 79,
   "metadata": {},
   "outputs": [
    {
     "name": "stdout",
     "output_type": "stream",
     "text": [
      "[2, 4, 6, 8, 10, 12, 14, 16, 18, 20, 22, 24, 26, 28, 30, 32, 34, 36, 38, 40, 42, 44, 46, 48, 50, 52, 54, 56, 58, 60, 62, 64, 66, 68, 70, 72, 74, 76, 78, 80, 82, 84, 86, 88, 90, 92, 94, 96, 98, 100, 102, 104, 106, 108, 110, 112, 114, 116, 118, 120, 122, 124, 126, 128, 130, 132, 134, 136, 138, 140, 142, 144, 146, 148, 150, 152, 154, 156, 158, 160, 162, 164, 166, 168, 170, 172, 174, 176, 178, 180, 182, 184, 186, 188, 190, 192, 194, 196, 198, 200]\n"
     ]
    }
   ],
   "source": [
    "lista_pares = [val for val in range(2, 201) if val%2 == 0]\n",
    "print(lista_pares)"
   ]
  },
  {
   "cell_type": "markdown",
   "metadata": {},
   "source": [
    "### 6. Utilice una comprensión de la lista para crear e imprimir una lista que contenga todos los elementos de la matriz Numpy de 10 x 4 "
   ]
  },
  {
   "cell_type": "code",
   "execution_count": 83,
   "metadata": {},
   "outputs": [],
   "source": [
    "matriz = np.array([[0.84062117, 0.48006452, 0.7876326 , 0.77109654],\n",
    "       [0.44409793, 0.09014516, 0.81835917, 0.87645456],\n",
    "       [0.7066597 , 0.09610873, 0.41247947, 0.57433389],\n",
    "       [0.29960807, 0.42315023, 0.34452557, 0.4751035 ],\n",
    "       [0.17003563, 0.46843998, 0.92796258, 0.69814654],\n",
    "       [0.41290051, 0.19561071, 0.16284783, 0.97016248],\n",
    "       [0.71725408, 0.87702738, 0.31244595, 0.76615487],\n",
    "       [0.20754036, 0.57871812, 0.07214068, 0.40356048],\n",
    "       [0.12149553, 0.53222417, 0.9976855 , 0.12536346],\n",
    "       [0.80930099, 0.50962849, 0.94555126, 0.33364763]])"
   ]
  },
  {
   "cell_type": "code",
   "execution_count": 84,
   "metadata": {},
   "outputs": [
    {
     "name": "stdout",
     "output_type": "stream",
     "text": [
      "[0.84062117, 0.48006452, 0.7876326, 0.77109654, 0.44409793, 0.09014516, 0.81835917, 0.87645456, 0.7066597, 0.09610873, 0.41247947, 0.57433389, 0.29960807, 0.42315023, 0.34452557, 0.4751035, 0.17003563, 0.46843998, 0.92796258, 0.69814654, 0.41290051, 0.19561071, 0.16284783, 0.97016248, 0.71725408, 0.87702738, 0.31244595, 0.76615487, 0.20754036, 0.57871812, 0.07214068, 0.40356048, 0.12149553, 0.53222417, 0.9976855, 0.12536346, 0.80930099, 0.50962849, 0.94555126, 0.33364763]\n"
     ]
    }
   ],
   "source": [
    "list_a = [val for row in matriz for val in row]\n",
    "print(list_a)"
   ]
  },
  {
   "cell_type": "markdown",
   "metadata": {},
   "source": [
    "### 7. Añade una condición a la comprensión de listas anterior para que sólo se impriman valores mayores o iguales a 0.5."
   ]
  },
  {
   "cell_type": "code",
   "execution_count": 85,
   "metadata": {},
   "outputs": [
    {
     "name": "stdout",
     "output_type": "stream",
     "text": [
      "[0.84062117, 0.7876326, 0.77109654, 0.81835917, 0.87645456, 0.7066597, 0.57433389, 0.92796258, 0.69814654, 0.97016248, 0.71725408, 0.87702738, 0.76615487, 0.57871812, 0.53222417, 0.9976855, 0.80930099, 0.50962849, 0.94555126]\n"
     ]
    }
   ],
   "source": [
    "val_may_5 = [val for val in list_a if val >= 0.5]\n",
    "print(val_may_5)"
   ]
  },
  {
   "cell_type": "markdown",
   "metadata": {},
   "source": [
    "### 8. Utilice una comprensión de listas para crear e imprimir una lista que contenga todos los elementos de la matriz numpy de 5 x 2 x 3."
   ]
  },
  {
   "cell_type": "code",
   "execution_count": 89,
   "metadata": {},
   "outputs": [],
   "source": [
    "capas = np.array([[[0.55867166, 0.06210792, 0.08147297],\n",
    "        [0.82579068, 0.91512478, 0.06833034]],\n",
    "\n",
    "       [[0.05440634, 0.65857693, 0.30296619],\n",
    "        [0.06769833, 0.96031863, 0.51293743]],\n",
    "\n",
    "       [[0.09143215, 0.71893382, 0.45850679],\n",
    "        [0.58256464, 0.59005654, 0.56266457]],\n",
    "\n",
    "       [[0.71600294, 0.87392666, 0.11434044],\n",
    "        [0.8694668 , 0.65669313, 0.10708681]],\n",
    "\n",
    "       [[0.07529684, 0.46470767, 0.47984544],\n",
    "        [0.65368638, 0.14901286, 0.23760688]]])"
   ]
  },
  {
   "cell_type": "code",
   "execution_count": 90,
   "metadata": {},
   "outputs": [
    {
     "name": "stdout",
     "output_type": "stream",
     "text": [
      "[0.55867166, 0.06210792, 0.08147297, 0.82579068, 0.91512478, 0.06833034, 0.05440634, 0.65857693, 0.30296619, 0.06769833, 0.96031863, 0.51293743, 0.09143215, 0.71893382, 0.45850679, 0.58256464, 0.59005654, 0.56266457, 0.71600294, 0.87392666, 0.11434044, 0.8694668, 0.65669313, 0.10708681, 0.07529684, 0.46470767, 0.47984544, 0.65368638, 0.14901286, 0.23760688]\n"
     ]
    }
   ],
   "source": [
    "datos = [val for matriz in capas for fila in matriz for val in fila]\n",
    "print(datos)"
   ]
  },
  {
   "cell_type": "markdown",
   "metadata": {},
   "source": [
    "### 9. Añada una condición a la comprensión de la lista anterior para que se imprima el último valor de cada subconjunto, pero sólo si es menor o igual a 0.5"
   ]
  },
  {
   "cell_type": "code",
   "execution_count": 91,
   "metadata": {},
   "outputs": [
    {
     "name": "stdout",
     "output_type": "stream",
     "text": [
      "[0.08147297, 0.06833034, 0.30296619, 0.45850679, 0.11434044, 0.10708681, 0.47984544, 0.23760688]\n"
     ]
    }
   ],
   "source": [
    "# Solución 1 - Carlos Ledesma\n",
    "lista = [fila[-1] for matriz in capas for fila in matriz if fila[-1]<=0.5]\n",
    "print(lista)"
   ]
  },
  {
   "cell_type": "markdown",
   "metadata": {},
   "source": [
    "### 10. Use comprensión de listas para seleccionar e imprimir los nombres de todos los archivos CSV en el directorio /data."
   ]
  },
  {
   "cell_type": "code",
   "execution_count": 92,
   "metadata": {},
   "outputs": [
    {
     "data": {
      "text/plain": [
       "'D:\\\\Dropbox\\\\CLASES\\\\PYTHON_INTERMEDIO\\\\Oct20-Feb21\\\\PARALELO_A\\\\RepoEstudiantes\\\\Ejercicios\\\\SegundoBimestre\\\\ClaseNro3-Comprensión'"
      ]
     },
     "execution_count": 92,
     "metadata": {},
     "output_type": "execute_result"
    }
   ],
   "source": [
    "os.getcwd()"
   ]
  },
  {
   "cell_type": "code",
   "execution_count": 94,
   "metadata": {},
   "outputs": [],
   "source": [
    "list_files = os.listdir(\"./data\")"
   ]
  },
  {
   "cell_type": "code",
   "execution_count": 96,
   "metadata": {},
   "outputs": [
    {
     "name": "stdout",
     "output_type": "stream",
     "text": [
      "['sample_file_0.csv', 'sample_file_1.csv', 'sample_file_2.csv', 'sample_file_3.csv', 'sample_file_4.csv', 'sample_file_5.csv', 'sample_file_6.csv', 'sample_file_7.csv', 'sample_file_8.csv', 'sample_file_9.csv']\n"
     ]
    }
   ],
   "source": [
    "files_csv = [name_file for name_file in list_files if name_file.endswith(\".csv\")]\n",
    "print(files_csv)"
   ]
  },
  {
   "cell_type": "markdown",
   "metadata": {},
   "source": [
    "### 11. Use una comprensión de la lista y los métodos `read_csv` y `concat` de Pandas para leer todos los archivos CSV en el directorio */data* y combinarlos en un solo marco de datos. Muestra las 10 primeras filas del marco de datos resultante."
   ]
  },
  {
   "cell_type": "code",
   "execution_count": 99,
   "metadata": {},
   "outputs": [
    {
     "data": {
      "text/html": [
       "<div>\n",
       "<style scoped>\n",
       "    .dataframe tbody tr th:only-of-type {\n",
       "        vertical-align: middle;\n",
       "    }\n",
       "\n",
       "    .dataframe tbody tr th {\n",
       "        vertical-align: top;\n",
       "    }\n",
       "\n",
       "    .dataframe thead th {\n",
       "        text-align: right;\n",
       "    }\n",
       "</style>\n",
       "<table border=\"1\" class=\"dataframe\">\n",
       "  <thead>\n",
       "    <tr style=\"text-align: right;\">\n",
       "      <th></th>\n",
       "      <th>0</th>\n",
       "      <th>1</th>\n",
       "      <th>2</th>\n",
       "      <th>3</th>\n",
       "      <th>4</th>\n",
       "      <th>5</th>\n",
       "      <th>6</th>\n",
       "      <th>7</th>\n",
       "      <th>8</th>\n",
       "      <th>9</th>\n",
       "      <th>10</th>\n",
       "      <th>11</th>\n",
       "      <th>12</th>\n",
       "      <th>13</th>\n",
       "      <th>14</th>\n",
       "      <th>15</th>\n",
       "      <th>16</th>\n",
       "      <th>17</th>\n",
       "      <th>18</th>\n",
       "      <th>19</th>\n",
       "    </tr>\n",
       "  </thead>\n",
       "  <tbody>\n",
       "    <tr>\n",
       "      <th>0</th>\n",
       "      <td>0.734751</td>\n",
       "      <td>0.195362</td>\n",
       "      <td>0.734309</td>\n",
       "      <td>0.598184</td>\n",
       "      <td>0.763433</td>\n",
       "      <td>0.263434</td>\n",
       "      <td>0.868066</td>\n",
       "      <td>0.058092</td>\n",
       "      <td>0.753502</td>\n",
       "      <td>0.587513</td>\n",
       "      <td>0.311608</td>\n",
       "      <td>0.178356</td>\n",
       "      <td>0.182922</td>\n",
       "      <td>0.147631</td>\n",
       "      <td>0.391188</td>\n",
       "      <td>0.816049</td>\n",
       "      <td>0.749068</td>\n",
       "      <td>0.293260</td>\n",
       "      <td>0.937828</td>\n",
       "      <td>0.880858</td>\n",
       "    </tr>\n",
       "    <tr>\n",
       "      <th>1</th>\n",
       "      <td>0.772607</td>\n",
       "      <td>0.445391</td>\n",
       "      <td>0.249642</td>\n",
       "      <td>0.787922</td>\n",
       "      <td>0.598583</td>\n",
       "      <td>0.827238</td>\n",
       "      <td>0.624126</td>\n",
       "      <td>0.601524</td>\n",
       "      <td>0.688753</td>\n",
       "      <td>0.338870</td>\n",
       "      <td>0.081595</td>\n",
       "      <td>0.471474</td>\n",
       "      <td>0.267443</td>\n",
       "      <td>0.453351</td>\n",
       "      <td>0.800716</td>\n",
       "      <td>0.045749</td>\n",
       "      <td>0.683793</td>\n",
       "      <td>0.389789</td>\n",
       "      <td>0.016787</td>\n",
       "      <td>0.503695</td>\n",
       "    </tr>\n",
       "    <tr>\n",
       "      <th>2</th>\n",
       "      <td>0.226428</td>\n",
       "      <td>0.268764</td>\n",
       "      <td>0.694262</td>\n",
       "      <td>0.622335</td>\n",
       "      <td>0.063843</td>\n",
       "      <td>0.122683</td>\n",
       "      <td>0.815625</td>\n",
       "      <td>0.584542</td>\n",
       "      <td>0.032594</td>\n",
       "      <td>0.589775</td>\n",
       "      <td>0.764350</td>\n",
       "      <td>0.650973</td>\n",
       "      <td>0.565705</td>\n",
       "      <td>0.691784</td>\n",
       "      <td>0.265223</td>\n",
       "      <td>0.739031</td>\n",
       "      <td>0.560394</td>\n",
       "      <td>0.334802</td>\n",
       "      <td>0.517694</td>\n",
       "      <td>0.646110</td>\n",
       "    </tr>\n",
       "    <tr>\n",
       "      <th>3</th>\n",
       "      <td>0.362748</td>\n",
       "      <td>0.495430</td>\n",
       "      <td>0.113876</td>\n",
       "      <td>0.594149</td>\n",
       "      <td>0.612522</td>\n",
       "      <td>0.625204</td>\n",
       "      <td>0.864050</td>\n",
       "      <td>0.260279</td>\n",
       "      <td>0.528873</td>\n",
       "      <td>0.168043</td>\n",
       "      <td>0.715929</td>\n",
       "      <td>0.677014</td>\n",
       "      <td>0.175735</td>\n",
       "      <td>0.632370</td>\n",
       "      <td>0.926715</td>\n",
       "      <td>0.085675</td>\n",
       "      <td>0.120525</td>\n",
       "      <td>0.141746</td>\n",
       "      <td>0.771144</td>\n",
       "      <td>0.489660</td>\n",
       "    </tr>\n",
       "    <tr>\n",
       "      <th>4</th>\n",
       "      <td>0.033415</td>\n",
       "      <td>0.340433</td>\n",
       "      <td>0.464971</td>\n",
       "      <td>0.363737</td>\n",
       "      <td>0.025815</td>\n",
       "      <td>0.434129</td>\n",
       "      <td>0.415163</td>\n",
       "      <td>0.892210</td>\n",
       "      <td>0.381701</td>\n",
       "      <td>0.415264</td>\n",
       "      <td>0.790801</td>\n",
       "      <td>0.696930</td>\n",
       "      <td>0.819751</td>\n",
       "      <td>0.944029</td>\n",
       "      <td>0.869965</td>\n",
       "      <td>0.041723</td>\n",
       "      <td>0.819140</td>\n",
       "      <td>0.676051</td>\n",
       "      <td>0.109349</td>\n",
       "      <td>0.872947</td>\n",
       "    </tr>\n",
       "    <tr>\n",
       "      <th>5</th>\n",
       "      <td>0.276827</td>\n",
       "      <td>0.260054</td>\n",
       "      <td>0.942397</td>\n",
       "      <td>0.113187</td>\n",
       "      <td>0.781355</td>\n",
       "      <td>0.475740</td>\n",
       "      <td>0.152061</td>\n",
       "      <td>0.250324</td>\n",
       "      <td>0.147078</td>\n",
       "      <td>0.162984</td>\n",
       "      <td>0.977025</td>\n",
       "      <td>0.509619</td>\n",
       "      <td>0.593212</td>\n",
       "      <td>0.911839</td>\n",
       "      <td>0.257645</td>\n",
       "      <td>0.386457</td>\n",
       "      <td>0.696932</td>\n",
       "      <td>0.069162</td>\n",
       "      <td>0.952291</td>\n",
       "      <td>0.286542</td>\n",
       "    </tr>\n",
       "    <tr>\n",
       "      <th>6</th>\n",
       "      <td>0.995885</td>\n",
       "      <td>0.158381</td>\n",
       "      <td>0.244274</td>\n",
       "      <td>0.962163</td>\n",
       "      <td>0.651900</td>\n",
       "      <td>0.930665</td>\n",
       "      <td>0.577190</td>\n",
       "      <td>0.087914</td>\n",
       "      <td>0.960261</td>\n",
       "      <td>0.580840</td>\n",
       "      <td>0.194616</td>\n",
       "      <td>0.661459</td>\n",
       "      <td>0.674085</td>\n",
       "      <td>0.049326</td>\n",
       "      <td>0.785803</td>\n",
       "      <td>0.315645</td>\n",
       "      <td>0.495355</td>\n",
       "      <td>0.232135</td>\n",
       "      <td>0.549324</td>\n",
       "      <td>0.572232</td>\n",
       "    </tr>\n",
       "    <tr>\n",
       "      <th>7</th>\n",
       "      <td>0.641917</td>\n",
       "      <td>0.821055</td>\n",
       "      <td>0.392437</td>\n",
       "      <td>0.782617</td>\n",
       "      <td>0.510762</td>\n",
       "      <td>0.428320</td>\n",
       "      <td>0.017324</td>\n",
       "      <td>0.680720</td>\n",
       "      <td>0.340412</td>\n",
       "      <td>0.462513</td>\n",
       "      <td>0.785776</td>\n",
       "      <td>0.251949</td>\n",
       "      <td>0.032847</td>\n",
       "      <td>0.995700</td>\n",
       "      <td>0.816563</td>\n",
       "      <td>0.735692</td>\n",
       "      <td>0.435998</td>\n",
       "      <td>0.430411</td>\n",
       "      <td>0.531757</td>\n",
       "      <td>0.489528</td>\n",
       "    </tr>\n",
       "    <tr>\n",
       "      <th>8</th>\n",
       "      <td>0.806532</td>\n",
       "      <td>0.569258</td>\n",
       "      <td>0.148175</td>\n",
       "      <td>0.809987</td>\n",
       "      <td>0.459632</td>\n",
       "      <td>0.735762</td>\n",
       "      <td>0.730664</td>\n",
       "      <td>0.934502</td>\n",
       "      <td>0.080322</td>\n",
       "      <td>0.763502</td>\n",
       "      <td>0.398504</td>\n",
       "      <td>0.027637</td>\n",
       "      <td>0.409665</td>\n",
       "      <td>0.942846</td>\n",
       "      <td>0.133256</td>\n",
       "      <td>0.157158</td>\n",
       "      <td>0.929446</td>\n",
       "      <td>0.402791</td>\n",
       "      <td>0.685976</td>\n",
       "      <td>0.246594</td>\n",
       "    </tr>\n",
       "    <tr>\n",
       "      <th>9</th>\n",
       "      <td>0.311185</td>\n",
       "      <td>0.501165</td>\n",
       "      <td>0.365979</td>\n",
       "      <td>0.782807</td>\n",
       "      <td>0.776795</td>\n",
       "      <td>0.797199</td>\n",
       "      <td>0.791946</td>\n",
       "      <td>0.847157</td>\n",
       "      <td>0.771811</td>\n",
       "      <td>0.233944</td>\n",
       "      <td>0.522344</td>\n",
       "      <td>0.053030</td>\n",
       "      <td>0.208551</td>\n",
       "      <td>0.824354</td>\n",
       "      <td>0.588567</td>\n",
       "      <td>0.604341</td>\n",
       "      <td>0.232964</td>\n",
       "      <td>0.229109</td>\n",
       "      <td>0.022881</td>\n",
       "      <td>0.479022</td>\n",
       "    </tr>\n",
       "  </tbody>\n",
       "</table>\n",
       "</div>"
      ],
      "text/plain": [
       "          0         1         2         3         4         5         6  \\\n",
       "0  0.734751  0.195362  0.734309  0.598184  0.763433  0.263434  0.868066   \n",
       "1  0.772607  0.445391  0.249642  0.787922  0.598583  0.827238  0.624126   \n",
       "2  0.226428  0.268764  0.694262  0.622335  0.063843  0.122683  0.815625   \n",
       "3  0.362748  0.495430  0.113876  0.594149  0.612522  0.625204  0.864050   \n",
       "4  0.033415  0.340433  0.464971  0.363737  0.025815  0.434129  0.415163   \n",
       "5  0.276827  0.260054  0.942397  0.113187  0.781355  0.475740  0.152061   \n",
       "6  0.995885  0.158381  0.244274  0.962163  0.651900  0.930665  0.577190   \n",
       "7  0.641917  0.821055  0.392437  0.782617  0.510762  0.428320  0.017324   \n",
       "8  0.806532  0.569258  0.148175  0.809987  0.459632  0.735762  0.730664   \n",
       "9  0.311185  0.501165  0.365979  0.782807  0.776795  0.797199  0.791946   \n",
       "\n",
       "          7         8         9        10        11        12        13  \\\n",
       "0  0.058092  0.753502  0.587513  0.311608  0.178356  0.182922  0.147631   \n",
       "1  0.601524  0.688753  0.338870  0.081595  0.471474  0.267443  0.453351   \n",
       "2  0.584542  0.032594  0.589775  0.764350  0.650973  0.565705  0.691784   \n",
       "3  0.260279  0.528873  0.168043  0.715929  0.677014  0.175735  0.632370   \n",
       "4  0.892210  0.381701  0.415264  0.790801  0.696930  0.819751  0.944029   \n",
       "5  0.250324  0.147078  0.162984  0.977025  0.509619  0.593212  0.911839   \n",
       "6  0.087914  0.960261  0.580840  0.194616  0.661459  0.674085  0.049326   \n",
       "7  0.680720  0.340412  0.462513  0.785776  0.251949  0.032847  0.995700   \n",
       "8  0.934502  0.080322  0.763502  0.398504  0.027637  0.409665  0.942846   \n",
       "9  0.847157  0.771811  0.233944  0.522344  0.053030  0.208551  0.824354   \n",
       "\n",
       "         14        15        16        17        18        19  \n",
       "0  0.391188  0.816049  0.749068  0.293260  0.937828  0.880858  \n",
       "1  0.800716  0.045749  0.683793  0.389789  0.016787  0.503695  \n",
       "2  0.265223  0.739031  0.560394  0.334802  0.517694  0.646110  \n",
       "3  0.926715  0.085675  0.120525  0.141746  0.771144  0.489660  \n",
       "4  0.869965  0.041723  0.819140  0.676051  0.109349  0.872947  \n",
       "5  0.257645  0.386457  0.696932  0.069162  0.952291  0.286542  \n",
       "6  0.785803  0.315645  0.495355  0.232135  0.549324  0.572232  \n",
       "7  0.816563  0.735692  0.435998  0.430411  0.531757  0.489528  \n",
       "8  0.133256  0.157158  0.929446  0.402791  0.685976  0.246594  \n",
       "9  0.588567  0.604341  0.232964  0.229109  0.022881  0.479022  "
      ]
     },
     "execution_count": 99,
     "metadata": {},
     "output_type": "execute_result"
    }
   ],
   "source": [
    "df = [pd.read_csv(os.path.join(\"./data\", file)) for file in files_csv]\n",
    "df_concat = pd.concat(df, axis = 0).reset_index(drop=True)\n",
    "df_concat.head(10)"
   ]
  },
  {
   "cell_type": "markdown",
   "metadata": {},
   "source": [
    "\n",
    "\n",
    "## Más\n",
    "\n",
    "Esta fue una breve introducción a la lista de comprensiones en Python. Si desea más, le recomiendo consultar este artículo de DataCamp: https://www.datacamp.com/community/tutorials/python-list-comprehension\n",
    "    \n",
    "¡Feliz comprensión!"
   ]
  }
 ],
 "metadata": {
  "kernelspec": {
   "display_name": "Python 3",
   "language": "python",
   "name": "python3"
  },
  "language_info": {
   "codemirror_mode": {
    "name": "ipython",
    "version": 3
   },
   "file_extension": ".py",
   "mimetype": "text/x-python",
   "name": "python",
   "nbconvert_exporter": "python",
   "pygments_lexer": "ipython3",
   "version": "3.7.6"
  }
 },
 "nbformat": 4,
 "nbformat_minor": 4
}
